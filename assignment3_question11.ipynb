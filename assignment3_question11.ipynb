{
 "cells": [
  {
   "cell_type": "code",
   "execution_count": 1,
   "id": "1848b2d7-210a-4a39-bb4d-666f40d28045",
   "metadata": {},
   "outputs": [],
   "source": [
    "import numpy as np\n",
    "import torch\n",
    "import torch.nn.functional as F\n",
    "from torch import Tensor\n",
    "from typing import Tuple"
   ]
  },
  {
   "cell_type": "code",
   "execution_count": 2,
   "id": "ea3055d7-b1e1-435b-bdcc-91804468fbe6",
   "metadata": {},
   "outputs": [],
   "source": [
    "batch_size = 1\n",
    "channels = 3\n",
    "img_height = 128\n",
    "img_width = 128\n",
    "\n",
    "# Define tensor x\n",
    "x: Tensor = torch.randn(batch_size, channels, img_height, img_width)"
   ]
  },
  {
   "cell_type": "code",
   "execution_count": 3,
   "id": "aa0b3f19-00cf-44bb-bf19-84c426aab44c",
   "metadata": {},
   "outputs": [],
   "source": [
    "# Appyling the global max and mean pool by setting the tensor output size to 1x1\n",
    "# and squeeze if the height and width have a dimension of 1\n",
    "\n",
    "apply_global_max_pool: Tensor = F.adaptive_max_pool2d(x, (1, 1)).squeeze(dim=(2, 3))\n",
    "apply_global_avg_pool: Tensor = F.adaptive_avg_pool2d(x, (1, 1)).squeeze(dim=(2, 3))"
   ]
  },
  {
   "cell_type": "code",
   "execution_count": 4,
   "id": "6538f550-1fa3-4dc6-8ef6-cd23bb940d56",
   "metadata": {},
   "outputs": [
    {
     "name": "stdout",
     "output_type": "stream",
     "text": [
      "The tensor after applying the global max pool operation: tensor([[4.0252, 4.7120, 3.6658]]), with the dimensions (1, 3).\n",
      "\n",
      "The tensor after applying the global mean pool operation: tensor([[0.0055, 0.0065, 0.0057]]), with the dimensions (1, 3).\n"
     ]
    }
   ],
   "source": [
    "print(f\"The tensor after applying the global max pool operation: {apply_global_max_pool}, with the dimensions {apply_global_max_pool.shape[0], apply_global_max_pool.shape[1]}.\")\n",
    "print()\n",
    "print(f\"The tensor after applying the global mean pool operation: {apply_global_avg_pool}, with the dimensions {apply_global_avg_pool.shape[0], apply_global_avg_pool.shape[1]}.\")"
   ]
  },
  {
   "cell_type": "code",
   "execution_count": null,
   "id": "d54a330c-b0e3-4e34-aafd-279a667c0a45",
   "metadata": {},
   "outputs": [],
   "source": []
  }
 ],
 "metadata": {
  "kernelspec": {
   "display_name": "Python 3 (ipykernel)",
   "language": "python",
   "name": "python3"
  },
  "language_info": {
   "codemirror_mode": {
    "name": "ipython",
    "version": 3
   },
   "file_extension": ".py",
   "mimetype": "text/x-python",
   "name": "python",
   "nbconvert_exporter": "python",
   "pygments_lexer": "ipython3",
   "version": "3.10.12"
  }
 },
 "nbformat": 4,
 "nbformat_minor": 5
}
