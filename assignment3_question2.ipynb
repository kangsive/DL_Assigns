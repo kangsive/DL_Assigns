{
 "cells": [
  {
   "cell_type": "code",
   "execution_count": 10,
   "id": "1a6fe512-76ab-4b4e-9c17-67666dc9ef42",
   "metadata": {},
   "outputs": [],
   "source": [
    "from typing import Tuple\n",
    "import numpy as np \n",
    "import torch.nn.functional as F\n",
    "import torch"
   ]
  },
  {
   "cell_type": "code",
   "execution_count": 11,
   "id": "48a2bdfd-fcfb-4df9-84cc-1000344f3fb1",
   "metadata": {},
   "outputs": [],
   "source": [
    "def get_output_size(input_tensor, kernel_size: int, stride: int, padding: int) -> Tuple[int, int]:\n",
    "\n",
    "    # Extracting the width and height of the input tensor \n",
    "    _, _, w, h = input_tensor.shape\n",
    "    \n",
    "    # Computing the width and height of the output tensor\n",
    "    output_width: int = ((w + (2 * padding) - kernel_size) // stride) + 1\n",
    "    output_height: int = ((h + (2 * padding) - kernel_size) // stride) + 1\n",
    "    \n",
    "    # Storing the width and height of the output in a tuple\n",
    "    size_output_tensor: Tuple[int, int] = (output_width, output_height)\n",
    "    \n",
    "    return size_output_tensor"
   ]
  },
  {
   "cell_type": "code",
   "execution_count": 12,
   "id": "523c1682-8a11-4e05-9ab8-1a2c26ec9502",
   "metadata": {},
   "outputs": [
    {
     "name": "stdout",
     "output_type": "stream",
     "text": [
      "959 539\n",
      "959 539\n"
     ]
    }
   ],
   "source": [
    "# Testing\n",
    "kernel_size, stride, padding = 5, 2, 1\n",
    "filters = torch.randn(8, 3, kernel_size, kernel_size)\n",
    "inputs = torch.randn(1, 3, 1920, 1080)\n",
    "output = F.conv2d(inputs, filters, stride=stride, padding=padding)\n",
    "osize = get_output_size(inputs, kernel_size, stride=stride, padding=padding)\n",
    "(output.shape[-2], output.shape[-1]) == (osize[-2], osize[-1])\n",
    "print(output.shape[-2], output.shape[-1])\n",
    "print(osize[-2], osize[-1])"
   ]
  },
  {
   "cell_type": "code",
   "execution_count": null,
   "id": "541ca493-7c15-4e86-9213-2b06db03e293",
   "metadata": {},
   "outputs": [],
   "source": []
  }
 ],
 "metadata": {
  "kernelspec": {
   "display_name": "Python 3 (ipykernel)",
   "language": "python",
   "name": "python3"
  },
  "language_info": {
   "codemirror_mode": {
    "name": "ipython",
    "version": 3
   },
   "file_extension": ".py",
   "mimetype": "text/x-python",
   "name": "python",
   "nbconvert_exporter": "python",
   "pygments_lexer": "ipython3",
   "version": "3.10.12"
  }
 },
 "nbformat": 4,
 "nbformat_minor": 5
}
