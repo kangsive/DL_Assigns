{
 "cells": [
  {
   "cell_type": "code",
   "execution_count": null,
   "id": "82a5264d-a933-49ee-9542-d2636c84b47f",
   "metadata": {
    "id": "D5ngFUOCpVkv"
   },
   "outputs": [],
   "source": [
    "import torch\n",
    "import torch.nn.functional as F\n",
    "from torch import nn\n",
    "\n",
    "class Conv2DFunc(torch.autograd.Function):\n",
    "    @staticmethod\n",
    "    def forward(ctx, X, kernel, stride=1, padding=1):\n",
    "        \"\"\"\n",
    "        Computation Graph: X-(unfold)-> U -(multiply W)-> Y' -(reshape)-> Y\n",
    "        \"\"\"\n",
    "        b, c, h, w = X.shape\n",
    "        kn, _, kh, kw = kernel.shape # kn: nr of kernels, kh: kernel height, kw: kernel width\n",
    "        oh, ow = (h+2*padding-kh)//stride + 1, (w+2*padding-kw)//stride + 1\n",
    "\n",
    "        U = F.unfold(X, (kh, kw), stride=stride, padding=padding)\n",
    "\n",
    "        assert oh*ow == U.shape[2]\n",
    "\n",
    "        U = U.transpose(1, 2)   # (b, k, p) --> (b, p, k)\n",
    "        W = kernel.view(kn, -1).t()   # (nr_kernels, nr_input_channels, kernel_height, kernel_width) --> (k, nr_kernels)\n",
    "        Y_prime = U.matmul(W)   # (b, p, nr_kernels), nr_kernels = nr_output_channels\n",
    "        Y_prime = Y_prime.transpose(1, 2) # (b, oc, p)\n",
    "\n",
    "        Y = Y_prime.reshape(b, kn, oh, ow)   # (b, oc, oh, ow)\n",
    "\n",
    "        ctx.hw = (h, w)\n",
    "        ctx.kshape = (kn, c, kh, kw)\n",
    "        ctx.sp = (stride, padding)\n",
    "        ctx.UW = (U, W)\n",
    "        ctx.yprime_shape = Y_prime.shape\n",
    "\n",
    "        return Y\n",
    "\n",
    "    @staticmethod\n",
    "    def backward(ctx, grad_Y):\n",
    "        (h, w), (kn, c, kh, kw), (stride, padding), (U, W), Y_prime_size = ctx.hw, ctx.kshape, ctx.sp, ctx.UW, ctx.yprime_shape\n",
    "\n",
    "        grad_Y_prime = grad_Y.reshape(Y_prime_size).transpose(1, 2)\n",
    "\n",
    "        kernel_grad = U.transpose(1, 2).matmul(grad_Y_prime)\n",
    "        kernel_grad = kernel_grad.sum(dim=0)\n",
    "        kernel_grad = kernel_grad.t().reshape(kn, c, kh, kw)\n",
    "\n",
    "        grad_U = grad_Y_prime.matmul(W.t())\n",
    "        grad_U = grad_U.transpose(1, 2)\n",
    "\n",
    "        input_batch_grad = F.fold(grad_U, (h, w), (kh, kw), stride=stride, padding=padding)\n",
    "\n",
    "        return input_batch_grad, kernel_grad, None, None\n",
    "\n",
    "\n",
    "input_batch = torch.randn(16, 3, 32, 32, requires_grad=True)\n",
    "kernel = torch.randn(2, 3, 4, 5, requires_grad=True)\n",
    "output = Conv2DFunc.apply(input_batch, kernel)\n",
    "output.backward(torch.ones_like(output))"
   ]
  }
 ],
 "metadata": {
  "kernelspec": {
   "display_name": "Python 3 (ipykernel)",
   "language": "python",
   "name": "python3"
  },
  "language_info": {
   "codemirror_mode": {
    "name": "ipython",
    "version": 3
   },
   "file_extension": ".py",
   "mimetype": "text/x-python",
   "name": "python",
   "nbconvert_exporter": "python",
   "pygments_lexer": "ipython3",
   "version": "3.10.12"
  }
 },
 "nbformat": 4,
 "nbformat_minor": 5
}
